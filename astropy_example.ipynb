{
 "cells": [
  {
   "cell_type": "code",
   "execution_count": null,
   "id": "0",
   "metadata": {},
   "outputs": [],
   "source": [
    "from astropy.coordinates import EarthLocation, AltAz, SkyCoord, GCRS\n",
    "from astropy import units as u\n",
    "from astropy.time import Time\n",
    "import numpy as np\n"
   ]
  },
  {
   "cell_type": "code",
   "execution_count": null,
   "id": "1",
   "metadata": {},
   "outputs": [],
   "source": [
    "# EarthLocation of antennas\n",
    "antpos = np.array([[-1604008.7431 , -5042135.8194 ,  3553403.7084 ],\n",
    "       [-1601315.9011 , -5041985.30447,  3554808.3081 ],\n",
    "       [-1604865.6579 , -5042190.0302 ,  3552962.3597 ],\n",
    "       [-1601173.9801 , -5041902.6559 ,  3554987.5267 ],\n",
    "       [-1596127.7286 , -5045193.7343 ,  3552652.4174 ],\n",
    "       [-1600863.6816 , -5039885.303  ,  3557965.315  ],\n",
    "       [-1601068.7948 , -5042051.9181 ,  3554824.8427 ],\n",
    "       [-1602592.8713 , -5042054.9913 ,  3554140.7111 ],\n",
    "       [-1601061.9634 , -5041175.8811 ,  3556058.0394 ],\n",
    "       [-1600801.9175 , -5042219.3706 ,  3554706.4492 ],\n",
    "       [-1600781.0408 , -5039347.416  ,  3558761.5242 ],\n",
    "       [-1599926.1065 , -5042772.9632 ,  3554319.8098 ],\n",
    "       [-1603249.6777 , -5042091.4126 ,  3553797.8106 ],\n",
    "       [-1597899.905  , -5044068.6843 ,  3553432.4423 ],\n",
    "       [-1601110.0378 , -5041488.073  ,  3555597.4397 ],\n",
    "       [-1599340.8237 , -5043150.9642 ,  3554065.1933 ],\n",
    "       [-1600690.6036 , -5038758.7058 ,  3559632.0653 ],\n",
    "       [-1601034.4102 , -5040996.5142 ,  3556322.916  ],\n",
    "       [-1600930.0767 , -5040316.4046 ,  3557330.4031 ],\n",
    "       [-1600416.512  , -5042462.443  ,  3554536.0387 ],\n",
    "       [-1602044.8966 , -5042025.8044 ,  3554427.8217 ],\n",
    "       [-1598663.0898 , -5043581.3793 ,  3553767.0201 ],\n",
    "       [-1605808.6423 , -5042230.088  ,  3552459.2035 ],\n",
    "       [-1601147.9459 , -5041733.8322 ,  3555235.9444 ],\n",
    "       [-1606841.9757 , -5042279.6672 ,  3551913.0239 ],\n",
    "       [-1597053.13   , -5044604.6754 ,  3553058.9804 ],\n",
    "       [-1601614.0825 , -5042001.6537 ,  3554652.508  ]]) * u.m\n",
    "\n",
    "# Format antenna positions and VLA center as EarthLocation.\n",
    "antpos_ap = EarthLocation(x=antpos[:,0], y=antpos[:,1], z=antpos[:,2])\n",
    "vla = EarthLocation.of_site('vla')"
   ]
  },
  {
   "cell_type": "code",
   "execution_count": null,
   "id": "2",
   "metadata": {},
   "outputs": [],
   "source": [
    "obs_time = Time(\"2025-02-21T12:00:00\")\n",
    "\n",
    "obs_frame = AltAz(obstime=obs_time, location=vla)\n",
    "\n",
    "source = SkyCoord(ra=10*u.hourangle, dec=-30*u.deg, frame='icrs')\n",
    "\n",
    "source_altaz = source.transform_to(obs_frame)"
   ]
  },
  {
   "cell_type": "code",
   "execution_count": null,
   "id": "3",
   "metadata": {},
   "outputs": [],
   "source": [
    "print(source_altaz)"
   ]
  },
  {
   "cell_type": "code",
   "execution_count": null,
   "id": "4",
   "metadata": {},
   "outputs": [],
   "source": [
    "vla_p, vla_v = vla.get_gcrs_posvel(obs_time)\n",
    "antpos_c_ap = GCRS(antpos_ap.get_gcrs_posvel(obs_time)[0], \n",
    "        obstime=obs_time, obsgeoloc=vla_p, obsgeovel=vla_v)"
   ]
  },
  {
   "cell_type": "code",
   "execution_count": null,
   "id": "5",
   "metadata": {},
   "outputs": [],
   "source": [
    "frame_uvw = source.skyoffset_frame()\n",
    "antpos_uvw_ap = antpos_c_ap.transform_to(frame_uvw)\n",
    "bl_uvw_ap = antpos_uvw_ap.cartesian - antpos_uvw_ap.cartesian[0]"
   ]
  },
  {
   "cell_type": "code",
   "execution_count": null,
   "id": "6",
   "metadata": {},
   "outputs": [],
   "source": [
    "bl_uvw_ap"
   ]
  },
  {
   "cell_type": "code",
   "execution_count": null,
   "id": "7",
   "metadata": {},
   "outputs": [],
   "source": []
  },
  {
   "cell_type": "code",
   "execution_count": null,
   "id": "8",
   "metadata": {},
   "outputs": [],
   "source": []
  }
 ],
 "metadata": {
  "kernelspec": {
   "display_name": "Python 3 (ipykernel)",
   "language": "python",
   "name": "python3"
  },
  "language_info": {
   "codemirror_mode": {
    "name": "ipython",
    "version": 3
   },
   "file_extension": ".py",
   "mimetype": "text/x-python",
   "name": "python",
   "nbconvert_exporter": "python",
   "pygments_lexer": "ipython3",
   "version": "3.10.12"
  }
 },
 "nbformat": 4,
 "nbformat_minor": 5
}
