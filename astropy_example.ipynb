{
 "cells": [
  {
   "cell_type": "code",
   "execution_count": 1,
   "id": "972a0727-5b04-44be-b0ef-0b1aa109f8a4",
   "metadata": {},
   "outputs": [],
   "source": [
    "from astropy.coordinates import EarthLocation, AltAz, SkyCoord, GCRS\n",
    "from astropy import units as u\n",
    "from astropy.time import Time\n",
    "import numpy as np\n"
   ]
  },
  {
   "cell_type": "code",
   "execution_count": 2,
   "id": "11c6fa12-6bdf-4272-a4c7-0db6134b85c7",
   "metadata": {},
   "outputs": [],
   "source": [
    "# EarthLocation of antennas\n",
    "antpos = np.array([[-1604008.7431 , -5042135.8194 ,  3553403.7084 ],\n",
    "       [-1601315.9011 , -5041985.30447,  3554808.3081 ],\n",
    "       [-1604865.6579 , -5042190.0302 ,  3552962.3597 ],\n",
    "       [-1601173.9801 , -5041902.6559 ,  3554987.5267 ],\n",
    "       [-1596127.7286 , -5045193.7343 ,  3552652.4174 ],\n",
    "       [-1600863.6816 , -5039885.303  ,  3557965.315  ],\n",
    "       [-1601068.7948 , -5042051.9181 ,  3554824.8427 ],\n",
    "       [-1602592.8713 , -5042054.9913 ,  3554140.7111 ],\n",
    "       [-1601061.9634 , -5041175.8811 ,  3556058.0394 ],\n",
    "       [-1600801.9175 , -5042219.3706 ,  3554706.4492 ],\n",
    "       [-1600781.0408 , -5039347.416  ,  3558761.5242 ],\n",
    "       [-1599926.1065 , -5042772.9632 ,  3554319.8098 ],\n",
    "       [-1603249.6777 , -5042091.4126 ,  3553797.8106 ],\n",
    "       [-1597899.905  , -5044068.6843 ,  3553432.4423 ],\n",
    "       [-1601110.0378 , -5041488.073  ,  3555597.4397 ],\n",
    "       [-1599340.8237 , -5043150.9642 ,  3554065.1933 ],\n",
    "       [-1600690.6036 , -5038758.7058 ,  3559632.0653 ],\n",
    "       [-1601034.4102 , -5040996.5142 ,  3556322.916  ],\n",
    "       [-1600930.0767 , -5040316.4046 ,  3557330.4031 ],\n",
    "       [-1600416.512  , -5042462.443  ,  3554536.0387 ],\n",
    "       [-1602044.8966 , -5042025.8044 ,  3554427.8217 ],\n",
    "       [-1598663.0898 , -5043581.3793 ,  3553767.0201 ],\n",
    "       [-1605808.6423 , -5042230.088  ,  3552459.2035 ],\n",
    "       [-1601147.9459 , -5041733.8322 ,  3555235.9444 ],\n",
    "       [-1606841.9757 , -5042279.6672 ,  3551913.0239 ],\n",
    "       [-1597053.13   , -5044604.6754 ,  3553058.9804 ],\n",
    "       [-1601614.0825 , -5042001.6537 ,  3554652.508  ]]) * u.m\n",
    "\n",
    "# Format antenna positions and VLA center as EarthLocation.\n",
    "antpos_ap = EarthLocation(x=antpos[:,0], y=antpos[:,1], z=antpos[:,2])\n",
    "vla = EarthLocation.of_site('vla')"
   ]
  },
  {
   "cell_type": "code",
   "execution_count": 3,
   "id": "08bb36a5-3677-46e0-a24b-a016d54078d4",
   "metadata": {},
   "outputs": [],
   "source": [
    "obs_time = Time(\"2025-02-21T12:00:00\")\n",
    "\n",
    "obs_frame = AltAz(obstime=obs_time, location=vla)\n",
    "\n",
    "source = SkyCoord(ra=10*u.hourangle, dec=-30*u.deg, frame='icrs')\n",
    "\n",
    "source_altaz = source.transform_to(obs_frame)"
   ]
  },
  {
   "cell_type": "code",
   "execution_count": 4,
   "id": "07a94ebe-e362-4c21-99a9-6686fbe0902c",
   "metadata": {},
   "outputs": [
    {
     "name": "stdout",
     "output_type": "stream",
     "text": [
      "<SkyCoord (AltAz: obstime=2025-02-21T12:00:00.000, location=(-1601184.4019199207, -5041989.955692349, 3554875.0768564628) m, pressure=0.0 hPa, temperature=0.0 deg_C, relative_humidity=0.0, obswl=1.0 micron): (az, alt) in deg\n",
      "    (236.42380613, -4.63407489)>\n"
     ]
    }
   ],
   "source": [
    "print(source_altaz)"
   ]
  },
  {
   "cell_type": "code",
   "execution_count": 5,
   "id": "671031c3-d2ae-463f-8027-7e5da46df639",
   "metadata": {},
   "outputs": [],
   "source": [
    "vla_p, vla_v = vla.get_gcrs_posvel(obs_time)\n",
    "antpos_c_ap = GCRS(antpos_ap.get_gcrs_posvel(obs_time)[0], \n",
    "        obstime=obs_time, obsgeoloc=vla_p, obsgeovel=vla_v)"
   ]
  },
  {
   "cell_type": "code",
   "execution_count": 6,
   "id": "9539e028-92af-4554-9164-96c67a4f970c",
   "metadata": {},
   "outputs": [],
   "source": [
    "frame_uvw = source.skyoffset_frame()\n",
    "antpos_uvw_ap = antpos_c_ap.transform_to(frame_uvw)\n",
    "bl_uvw_ap = antpos_uvw_ap.cartesian - antpos_uvw_ap.cartesian[0]"
   ]
  },
  {
   "cell_type": "code",
   "execution_count": 9,
   "id": "307d9a0e-29c9-4ce8-b879-1be97e718584",
   "metadata": {},
   "outputs": [
    {
     "data": {
      "text/plain": [
       "<CartesianRepresentation (x, y, z) in m\n",
       "    [(    0.        ,     0.        ,     0.        ),\n",
       "     (-3030.44013977,  -215.19993591,  -134.51615906),\n",
       "     (  961.391922  ,    74.78549194,    47.60217285),\n",
       "     (-3241.38583374,  -301.38206482,   -49.82424927),\n",
       "     (-6501.98239136,  2874.3465271 , -4636.37535095),\n",
       "     (-4962.05049133, -2329.52137756,  2391.61428833),\n",
       "     (-3253.81668091,  -154.38925171,  -244.8996582 ),\n",
       "     (-1592.57827759,  -114.83638763,   -72.0269165 ),\n",
       "     (-3860.33325195, -1032.0450058 ,   827.65429688),\n",
       "     (-3428.68002319,     6.95753479,  -482.98236084),\n",
       "     (-5421.87478638, -2870.28521729,  3044.56115723),\n",
       "     (-4003.56330872,   540.50952148, -1262.7041626 ),\n",
       "     ( -853.26873779,   -62.63739777,   -39.47979736),\n",
       "     (-5337.45391846,  1789.85268402, -3060.59443665),\n",
       "     (-3594.11927795,  -718.18293762,   450.05383301),\n",
       "     (-4389.80088806,   905.11064148, -1780.60134888),\n",
       "     (-5924.68466187, -3462.14256287,  3758.43092346),\n",
       "     (-4013.34773254, -1212.37028503,  1044.8454895 ),\n",
       "     (-4594.99481201, -1896.11467743,  1871.16815186),\n",
       "     (-3681.51502991,   241.21146393,  -826.32911682),\n",
       "     (-2209.92643738,  -157.18835449,   -98.30435181),\n",
       "     (-4835.22140503,  1320.01564026, -2383.11523438),\n",
       "     ( 2028.5271759 ,   137.5133667 ,    85.07452393),\n",
       "     (-3385.04676819,  -471.10894012,   153.78059387),\n",
       "     ( 3195.18598938,   211.92612457,   130.56193542),\n",
       "     (-5893.47387695,  2306.46686554, -3814.16325378),\n",
       "     (-2694.73539734,  -191.68762207,  -119.84881592)]>"
      ]
     },
     "execution_count": 9,
     "metadata": {},
     "output_type": "execute_result"
    }
   ],
   "source": [
    "bl_uvw_ap"
   ]
  },
  {
   "cell_type": "code",
   "execution_count": null,
   "id": "2b9ef258-4e53-4017-bcf5-db189a951e95",
   "metadata": {},
   "outputs": [],
   "source": []
  },
  {
   "cell_type": "code",
   "execution_count": null,
   "id": "1421c62a-d681-477a-a7ce-49d69d420863",
   "metadata": {},
   "outputs": [],
   "source": []
  }
 ],
 "metadata": {
  "kernelspec": {
   "display_name": "Python 3 (ipykernel)",
   "language": "python",
   "name": "python3"
  },
  "language_info": {
   "codemirror_mode": {
    "name": "ipython",
    "version": 3
   },
   "file_extension": ".py",
   "mimetype": "text/x-python",
   "name": "python",
   "nbconvert_exporter": "python",
   "pygments_lexer": "ipython3",
   "version": "3.10.12"
  }
 },
 "nbformat": 4,
 "nbformat_minor": 5
}
