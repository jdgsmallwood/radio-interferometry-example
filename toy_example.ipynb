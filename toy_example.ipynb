{
 "cells": [
  {
   "cell_type": "code",
   "execution_count": null,
   "id": "0",
   "metadata": {},
   "outputs": [],
   "source": [
    "from astropy.coordinates import EarthLocation, AltAz, SkyCoord, GCRS\n",
    "from astropy import units as u\n",
    "from astropy.time import Time\n",
    "import numpy as np\n",
    "from datetime import datetime, timedelta\n",
    "\n",
    "start_time = datetime(2025, 2, 21, 12, 0, 0)\n",
    "current_time = start_time\n",
    "\n",
    "vla = EarthLocation.of_site('vla')\n",
    "source = SkyCoord(ra=10*u.hourangle, dec=-30*u.deg, frame='icrs')\n",
    "\n",
    "antenna_1_pos = np.array([0,0,0])\n",
    "antenna_2_pos = np.array([10,200,10])\n",
    "\n",
    "# ENU coordinates\n",
    "baseline = antenna_2_pos - antenna_1_pos\n",
    "\n",
    "# convert to x,y,z coordinates where z points to the NCP\n",
    "# we need the latitude of the site\n",
    "# y will point locally eastward\n",
    "# z aligns with NCP\n",
    "# think of projection of NU axes onto z.\n",
    "# x is y X z\n",
    "latitude = vla.lat\n",
    "transform_enu_xyz = np.array([\n",
    "    [0, -np.sin(latitude), np.cos(latitude)], \n",
    "    [1, 0, 0], \n",
    "    [0, np.cos(latitude), np.sin(latitude)]\n",
    "])\n",
    "baseline_xyz = np.matmul(transform_enu_xyz, baseline)\n",
    "\n",
    "obs_frequency = 1_000_000\n",
    "obs_wavelength = 3.0 * 10**8 / obs_frequency "
   ]
  },
  {
   "cell_type": "code",
   "execution_count": null,
   "id": "1",
   "metadata": {},
   "outputs": [],
   "source": [
    "import matplotlib.pyplot as plt\n",
    "\n",
    "uvs = []\n",
    "\n",
    "for i in range(6000):\n",
    "    current_time = current_time + timedelta(minutes=1)\n",
    "    obs_time = Time(current_time.isoformat(), location=vla)\n",
    "    obs_local_sidereal_time = obs_time.sidereal_time(kind='mean')\n",
    "    hour_angle = obs_local_sidereal_time - source.ra\n",
    "    \n",
    "    # taken from slides\n",
    "    # u points eastward\n",
    "    # w tracks source\n",
    "    # v is the remaining x-product\n",
    "    transform_xyz_uvw = np.array([\n",
    "    [np.sin(hour_angle), np.cos(hour_angle), 0],\n",
    "    [-np.sin(source.dec) * np.cos(hour_angle), np.sin(source.dec) * np.sin(hour_angle), np.cos(source.dec)],\n",
    "    [np.cos(hour_angle) * np.cos(source.dec), np.sin(hour_angle) * np.cos(source.dec), np.sin(source.dec)]    \n",
    "])\n",
    "    baseline_uvw = np.matmul(transform_xyz_uvw, baseline_xyz) / obs_wavelength\n",
    "    uvs.append(baseline_uvw[:2])\n",
    "\n",
    "uvs = np.array(uvs)\n",
    "\n",
    "plt.scatter(uvs[:,0], uvs[:,1], color='blue')\n",
    "\n",
    "plt.show()\n"
   ]
  },
  {
   "cell_type": "code",
   "execution_count": null,
   "id": "2",
   "metadata": {},
   "outputs": [],
   "source": [
    "source.ra \n",
    "10 * 15"
   ]
  },
  {
   "cell_type": "code",
   "execution_count": null,
   "id": "3",
   "metadata": {},
   "outputs": [],
   "source": []
  }
 ],
 "metadata": {
  "kernelspec": {
   "display_name": "Python 3 (ipykernel)",
   "language": "python",
   "name": "python3"
  },
  "language_info": {
   "codemirror_mode": {
    "name": "ipython",
    "version": 3
   },
   "file_extension": ".py",
   "mimetype": "text/x-python",
   "name": "python",
   "nbconvert_exporter": "python",
   "pygments_lexer": "ipython3",
   "version": "3.9.6"
  }
 },
 "nbformat": 4,
 "nbformat_minor": 5
}
