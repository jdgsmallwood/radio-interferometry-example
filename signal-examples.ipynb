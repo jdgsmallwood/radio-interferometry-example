{
 "cells": [
  {
   "cell_type": "code",
   "execution_count": null,
   "id": "0",
   "metadata": {},
   "outputs": [],
   "source": [
    "import numpy as np\n",
    "import matplotlib.pyplot as plt\n"
   ]
  },
  {
   "cell_type": "code",
   "execution_count": null,
   "id": "1",
   "metadata": {},
   "outputs": [],
   "source": [
    "t_min = - 1\n",
    "t_max = 1\n",
    "num_t = 1000\n",
    "t = np.linspace(t_min, t_max, num_t)\n",
    "f = 2\n",
    "\n",
    "xt = np.cos(2 * np.pi * f * t)"
   ]
  },
  {
   "cell_type": "code",
   "execution_count": null,
   "id": "2",
   "metadata": {},
   "outputs": [],
   "source": [
    "plt.plot(t, xt)\n",
    "plt.xlabel(\"t\")\n",
    "plt.ylabel(\"Amplitude\")\n",
    "plt.title(\"Plot of cos(2*pi*f*t)\")"
   ]
  },
  {
   "cell_type": "code",
   "execution_count": null,
   "id": "3",
   "metadata": {},
   "outputs": [],
   "source": [
    "Fs = 5\n",
    "Ts = 1 / Fs\n",
    "\n",
    "pulse_train = np.arange(t_min, t_max, Ts)\n",
    "\n",
    "plt.stem(pulse_train, np.ones(len(pulse_train)))"
   ]
  },
  {
   "cell_type": "code",
   "execution_count": null,
   "id": "4",
   "metadata": {},
   "outputs": [],
   "source": [
    "xt_sampled = np.cos(2 * np.pi * f * pulse_train)\n",
    "plt.stem(pulse_train, xt_sampled)\n",
    "plt.plot(t, xt, 'r')"
   ]
  },
  {
   "cell_type": "code",
   "execution_count": null,
   "id": "5",
   "metadata": {},
   "outputs": [],
   "source": [
    "import scipy\n",
    "\n",
    "\n",
    "x_rs, t_rs = scipy.signal.resample(xt_sampled, 1000, pulse_train)\n",
    "plt.plot(t_rs, x_rs, 'o')"
   ]
  },
  {
   "cell_type": "code",
   "execution_count": null,
   "id": "6",
   "metadata": {},
   "outputs": [],
   "source": [
    "import asyncio\n",
    "\n",
    "\n",
    "async def hello():\n",
    "    print(\"Hello\")\n",
    "    await asyncio.sleep(1)\n",
    "    print(\"world\")\n",
    "\n",
    "\n",
    "await hello()\n",
    "\n"
   ]
  }
 ],
 "metadata": {
  "kernelspec": {
   "display_name": "Python 3 (ipykernel)",
   "language": "python",
   "name": "python3"
  },
  "language_info": {
   "codemirror_mode": {
    "name": "ipython",
    "version": 3
   },
   "file_extension": ".py",
   "mimetype": "text/x-python",
   "name": "python",
   "nbconvert_exporter": "python",
   "pygments_lexer": "ipython3",
   "version": "3.9.6"
  }
 },
 "nbformat": 4,
 "nbformat_minor": 5
}
